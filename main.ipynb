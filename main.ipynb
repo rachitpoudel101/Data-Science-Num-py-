{
 "cells": [
  {
   "cell_type": "code",
   "execution_count": 1,
   "id": "0a4b5481",
   "metadata": {},
   "outputs": [
    {
     "name": "stdout",
     "output_type": "stream",
     "text": [
      "2.3.2\n"
     ]
    }
   ],
   "source": [
    "import numpy as np\n",
    "print(np.__version__)"
   ]
  },
  {
   "cell_type": "markdown",
   "id": "5d2ec147",
   "metadata": {},
   "source": [
    "## How to create a basic Array\n",
    "\n",
    "# This section covers np.zeros(), np.ones(), np.empty(), np.arange(), np.linspace()\n"
   ]
  },
  {
   "cell_type": "code",
   "execution_count": 2,
   "id": "1d07f44d",
   "metadata": {},
   "outputs": [
    {
     "data": {
      "text/plain": [
       "array([0., 0.])"
      ]
     },
     "execution_count": 2,
     "metadata": {},
     "output_type": "execute_result"
    }
   ],
   "source": [
    "np.zeros(2)"
   ]
  },
  {
   "cell_type": "code",
   "execution_count": 3,
   "id": "afc61db0",
   "metadata": {},
   "outputs": [
    {
     "data": {
      "text/plain": [
       "array([1., 1., 1.])"
      ]
     },
     "execution_count": 3,
     "metadata": {},
     "output_type": "execute_result"
    }
   ],
   "source": [
    "np.ones(3)"
   ]
  },
  {
   "cell_type": "code",
   "execution_count": 4,
   "id": "8231014f",
   "metadata": {},
   "outputs": [
    {
     "data": {
      "text/plain": [
       "array([0., 0.])"
      ]
     },
     "execution_count": 4,
     "metadata": {},
     "output_type": "execute_result"
    }
   ],
   "source": [
    "np.empty(2)"
   ]
  },
  {
   "cell_type": "code",
   "execution_count": 5,
   "id": "e9348ee4",
   "metadata": {},
   "outputs": [
    {
     "data": {
      "text/plain": [
       "array([0, 1, 2, 3])"
      ]
     },
     "execution_count": 5,
     "metadata": {},
     "output_type": "execute_result"
    }
   ],
   "source": [
    "np.arange(4)"
   ]
  },
  {
   "cell_type": "code",
   "execution_count": 6,
   "id": "d71891ed",
   "metadata": {},
   "outputs": [
    {
     "data": {
      "text/plain": [
       "array([2, 4, 6])"
      ]
     },
     "execution_count": 6,
     "metadata": {},
     "output_type": "execute_result"
    }
   ],
   "source": [
    "np.arange(2,8,2) # the first number, last number, and the step size."
   ]
  },
  {
   "cell_type": "code",
   "execution_count": 7,
   "id": "f83110bb",
   "metadata": {},
   "outputs": [
    {
     "data": {
      "text/plain": [
       "array([ 0. ,  2.5,  5. ,  7.5, 10. ])"
      ]
     },
     "execution_count": 7,
     "metadata": {},
     "output_type": "execute_result"
    }
   ],
   "source": [
    "np.linspace(0, 10, num=5) # np.linspace() to create an array with values that are spaced linearly in a specified interval:"
   ]
  },
  {
   "cell_type": "code",
   "execution_count": 8,
   "id": "5a923159",
   "metadata": {},
   "outputs": [
    {
     "name": "stdout",
     "output_type": "stream",
     "text": [
      "[1 1]\n"
     ]
    }
   ],
   "source": [
    "# Specifying your data type\n",
    "\n",
    "x = np.ones(2, dtype= np.int64)\n",
    "print(x)"
   ]
  },
  {
   "cell_type": "markdown",
   "id": "ae62c632",
   "metadata": {},
   "source": [
    "## Adding, removing, and sorting elements\n",
    "\n",
    "# This section covers np.sort(), np.concatenate()"
   ]
  },
  {
   "cell_type": "code",
   "execution_count": 9,
   "id": "c69e3290",
   "metadata": {},
   "outputs": [
    {
     "name": "stdout",
     "output_type": "stream",
     "text": [
      "Sort Array By Ascending Order: [ 1  2  4  6  8  9 10 11 33 60 89]\n",
      "Sort Array By Descending Order: [89 60 33 11 10  9  8  6  4  2  1]\n"
     ]
    }
   ],
   "source": [
    "arr = np.array([2, 4, 6, 8, 9, 10,  1, 60, 89, 33, 11])\n",
    "print(\"Sort Array By Ascending Order:\",np.sort(arr))\n",
    "print( \"Sort Array By Descending Order:\",np.sort(arr)[::-1])"
   ]
  },
  {
   "cell_type": "code",
   "execution_count": 10,
   "id": "34122a94",
   "metadata": {},
   "outputs": [
    {
     "data": {
      "text/plain": [
       "array([[  1,   2,   3,   4],\n",
       "       [  8,   3,   5,  10],\n",
       "       [ 90,  45,  67,  33],\n",
       "       [ 88, 100,  40,  55]])"
      ]
     },
     "execution_count": 10,
     "metadata": {},
     "output_type": "execute_result"
    }
   ],
   "source": [
    "a = np.array([[1,2,3,4], [8,3,5,10]])\n",
    "b = np.array([[90,45,67,33],[88,100,40,55]])\n",
    "np.concatenate((a,b))"
   ]
  },
  {
   "cell_type": "markdown",
   "id": "bfe2de2d",
   "metadata": {},
   "source": [
    "## How do you know the shape and size of an array?\n",
    "\n",
    "# This section covers ndarray.ndim, ndarray.size, ndarray.shape"
   ]
  },
  {
   "cell_type": "code",
   "execution_count": 11,
   "id": "36e857eb",
   "metadata": {},
   "outputs": [
    {
     "name": "stdout",
     "output_type": "stream",
     "text": [
      "3\n",
      "24\n",
      "(3, 2, 4)\n"
     ]
    }
   ],
   "source": [
    "y = np.array([[[0, 1, 2, 3],\n",
    "                           [4, 5, 6, 7]],\n",
    "                          [[0, 1, 2, 3],\n",
    "                           [4, 5, 6, 7]],\n",
    "                          [[0 ,1 ,2, 3],\n",
    "                           [4, 5, 6, 7]]])\n",
    "print (y.ndim) # ndarray.ndim will tell you the number of axes, or dimensions, of the array.\n",
    "print(y.size) # ndarray.size will tell you the total number of elements of the array. This is the product of the elements of the array’s shape\n",
    "print(y.shape) # ndarray.shape will display If, for example, you have a 2-D array with 2 rows and 3 columns, the shape of your array is (2, 3).\n",
    "\n"
   ]
  },
  {
   "cell_type": "markdown",
   "id": "8229240a",
   "metadata": {},
   "source": [
    "## Can you reshape an array?\n",
    "\n",
    "# This section covers arr.reshape()"
   ]
  },
  {
   "cell_type": "code",
   "execution_count": 17,
   "id": "8dda56e4",
   "metadata": {},
   "outputs": [
    {
     "name": "stdout",
     "output_type": "stream",
     "text": [
      "[0 1 2 3 4 5]\n"
     ]
    }
   ],
   "source": [
    "a1 = np.arange(6)\n",
    "print(a1)"
   ]
  },
  {
   "cell_type": "code",
   "execution_count": 19,
   "id": "818ed080",
   "metadata": {},
   "outputs": [
    {
     "name": "stdout",
     "output_type": "stream",
     "text": [
      "[[0 1]\n",
      " [2 3]\n",
      " [4 5]]\n"
     ]
    }
   ],
   "source": [
    "b1 = a1.reshape(3,2)\n",
    "print(b1)"
   ]
  },
  {
   "cell_type": "code",
   "execution_count": null,
   "id": "2ccc0ee0",
   "metadata": {},
   "outputs": [
    {
     "data": {
      "text/plain": [
       "array([[0, 1, 2, 3, 4, 5]])"
      ]
     },
     "execution_count": 26,
     "metadata": {},
     "output_type": "execute_result"
    }
   ],
   "source": [
    "np.reshape(a1, shape=(1, 6), order='C')\n",
    "# order: C means to read/write the elements using C-like index order"
   ]
  },
  {
   "cell_type": "code",
   "execution_count": null,
   "id": "a1a07408",
   "metadata": {},
   "outputs": [],
   "source": []
  }
 ],
 "metadata": {
  "kernelspec": {
   "display_name": "venv",
   "language": "python",
   "name": "python3"
  },
  "language_info": {
   "codemirror_mode": {
    "name": "ipython",
    "version": 3
   },
   "file_extension": ".py",
   "mimetype": "text/x-python",
   "name": "python",
   "nbconvert_exporter": "python",
   "pygments_lexer": "ipython3",
   "version": "3.12.3"
  }
 },
 "nbformat": 4,
 "nbformat_minor": 5
}
